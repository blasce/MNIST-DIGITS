{
  "nbformat": 4,
  "nbformat_minor": 0,
  "metadata": {
    "colab": {
      "provenance": [],
      "include_colab_link": true
    },
    "kernelspec": {
      "name": "python3",
      "display_name": "Python 3"
    },
    "language_info": {
      "name": "python"
    }
  },
  "cells": [
    {
      "cell_type": "markdown",
      "metadata": {
        "id": "view-in-github",
        "colab_type": "text"
      },
      "source": [
        "<a href=\"https://colab.research.google.com/github/blasce/MNIST-DIGITS/blob/main/MNIST_Digits_Classification.ipynb\" target=\"_parent\"><img src=\"https://colab.research.google.com/assets/colab-badge.svg\" alt=\"Open In Colab\"/></a>"
      ]
    },
    {
      "cell_type": "markdown",
      "source": [
        "# Imports"
      ],
      "metadata": {
        "id": "DpeHUmjrwPLs"
      }
    },
    {
      "cell_type": "code",
      "execution_count": null,
      "metadata": {
        "id": "ohbWqmykvpIc"
      },
      "outputs": [],
      "source": [
        "import numpy as np\n",
        "import matplotlib.pyplot as plt\n",
        "%matplotlib inline\n",
        "import keras\n",
        "from keras.models import Sequential\n",
        "from keras.layers import Dense, Dropout\n",
        "from sklearn.metrics import confusion_matrix\n",
        "import seaborn as sns\n",
        "\n",
        "np.random.seed(0)"
      ]
    },
    {
      "cell_type": "markdown",
      "source": [
        "#Data"
      ],
      "metadata": {
        "id": "ckjSJZ5fxyKv"
      }
    },
    {
      "cell_type": "code",
      "source": [
        "from keras.datasets import mnist\n",
        "(x_train, y_train), (x_test, y_test) = mnist.load_data()"
      ],
      "metadata": {
        "id": "_6fGKZhUxz0V",
        "colab": {
          "base_uri": "https://localhost:8080/"
        },
        "outputId": "028bdd13-9fb0-4826-8bba-3dd1d4958ebf"
      },
      "execution_count": null,
      "outputs": [
        {
          "output_type": "stream",
          "name": "stdout",
          "text": [
            "Downloading data from https://storage.googleapis.com/tensorflow/tf-keras-datasets/mnist.npz\n",
            "11490434/11490434 [==============================] - 0s 0us/step\n"
          ]
        }
      ]
    },
    {
      "cell_type": "code",
      "source": [
        "from numpy.core.fromnumeric import shape\n",
        "print(x_train.shape, y_train.shape)\n",
        "print(x_test.shape, y_test.shape)"
      ],
      "metadata": {
        "colab": {
          "base_uri": "https://localhost:8080/"
        },
        "id": "83f9WJb4yIrd",
        "outputId": "43611f5e-6b97-4999-a4c6-ad60ba397d12"
      },
      "execution_count": null,
      "outputs": [
        {
          "output_type": "stream",
          "name": "stdout",
          "text": [
            "(60000, 28, 28) (60000,)\n",
            "(10000, 28, 28) (10000,)\n"
          ]
        }
      ]
    },
    {
      "cell_type": "markdown",
      "source": [
        "#Visualize examples"
      ],
      "metadata": {
        "id": "zxe9LrpwyygU"
      }
    },
    {
      "cell_type": "code",
      "source": [
        "num_classes = 10\n",
        "f, ax = plt.subplots(1, num_classes, figsize=(20,20))\n",
        "\n",
        "for i in range(0, num_classes):\n",
        "  sample = x_train[y_train == i][0]\n",
        "  ax[i].imshow(sample, cmap = 'gray')\n",
        "  ax[i].set_title(\"Label: {}\".format(i), fontsize=16)\n"
      ],
      "metadata": {
        "colab": {
          "base_uri": "https://localhost:8080/",
          "height": 107
        },
        "id": "q8uhH3fPyY4h",
        "outputId": "c6ee2576-913a-408c-9ea0-3a3a172760e9"
      },
      "execution_count": null,
      "outputs": [
        {
          "output_type": "display_data",
          "data": {
            "text/plain": [
              "<Figure size 2000x2000 with 10 Axes>"
            ],
            "image/png": "[encoded data removed]"
          },
          "metadata": {}
        }
      ]
    },
    {
      "cell_type": "code",
      "source": [
        "for i in range(10):\n",
        "  print(y_train[i])"
      ],
      "metadata": {
        "colab": {
          "base_uri": "https://localhost:8080/"
        },
        "id": "SE44SfPu1Z1W",
        "outputId": "50e7345d-19a2-4b1a-89a4-e38dd6e75710"
      },
      "execution_count": null,
      "outputs": [
        {
          "output_type": "stream",
          "name": "stdout",
          "text": [
            "5\n",
            "0\n",
            "4\n",
            "1\n",
            "9\n",
            "2\n",
            "1\n",
            "3\n",
            "1\n",
            "4\n"
          ]
        }
      ]
    },
    {
      "cell_type": "code",
      "source": [
        "y_train = keras.utils.to_categorical(y_train, num_classes)\n",
        "y_test = keras.utils.to_categorical(y_test, num_classes)"
      ],
      "metadata": {
        "id": "UgN5d3iA3dlC"
      },
      "execution_count": null,
      "outputs": []
    },
    {
      "cell_type": "code",
      "source": [
        "for i in range(10):\n",
        "  print(y_train[i])\n"
      ],
      "metadata": {
        "colab": {
          "base_uri": "https://localhost:8080/"
        },
        "id": "HfuW3cgc4j_M",
        "outputId": "df9a9305-6e68-4f5a-aa2c-b280387c119b"
      },
      "execution_count": null,
      "outputs": [
        {
          "output_type": "stream",
          "name": "stdout",
          "text": [
            "[0. 0. 0. 0. 0. 1. 0. 0. 0. 0.]\n",
            "[1. 0. 0. 0. 0. 0. 0. 0. 0. 0.]\n",
            "[0. 0. 0. 0. 1. 0. 0. 0. 0. 0.]\n",
            "[0. 1. 0. 0. 0. 0. 0. 0. 0. 0.]\n",
            "[0. 0. 0. 0. 0. 0. 0. 0. 0. 1.]\n",
            "[0. 0. 1. 0. 0. 0. 0. 0. 0. 0.]\n",
            "[0. 1. 0. 0. 0. 0. 0. 0. 0. 0.]\n",
            "[0. 0. 0. 1. 0. 0. 0. 0. 0. 0.]\n",
            "[0. 1. 0. 0. 0. 0. 0. 0. 0. 0.]\n",
            "[0. 0. 0. 0. 1. 0. 0. 0. 0. 0.]\n"
          ]
        }
      ]
    },
    {
      "cell_type": "markdown",
      "source": [
        "#Prepare Data"
      ],
      "metadata": {
        "id": "imjQ6o7l5Wt2"
      }
    },
    {
      "cell_type": "code",
      "source": [
        "# Normalize Data\n",
        "x_train = x_train / 255.0 #we divide by 255 to get smaller values (0.0-1.0)\n",
        "x_test = x_test / 255.0\n",
        "\n",
        "# Reshape Data\n",
        "x_train = x_train.reshape(x_train.shape[0], -1)\n",
        "x_test = x_test.reshape(x_test.shape[0], -1)\n",
        "print(x_train.shape)"
      ],
      "metadata": {
        "colab": {
          "base_uri": "https://localhost:8080/"
        },
        "id": "X7g3owE-4qKL",
        "outputId": "3db55bd6-4591-4ff9-825f-2464cc8b3442"
      },
      "execution_count": null,
      "outputs": [
        {
          "output_type": "stream",
          "name": "stdout",
          "text": [
            "(60000, 784)\n"
          ]
        }
      ]
    },
    {
      "cell_type": "markdown",
      "source": [
        "# create model - fully connected neural network"
      ],
      "metadata": {
        "id": "98owZsNV9G9S"
      }
    },
    {
      "cell_type": "code",
      "source": [
        "model = Sequential()\n",
        "\n",
        "model.add(Dense(units = 128, input_shape = (784,), activation ='relu'))\n",
        "model.add(Dense(units=128, activation='relu'))\n",
        "model.add(Dropout(0.25))\n",
        "model.add(Dense(units=10, activation ='softmax'))\n",
        "\n",
        "model.compile(loss='categorical_crossentropy', optimizer='adam', metrics=['accuracy'])\n",
        "model.summary()"
      ],
      "metadata": {
        "colab": {
          "base_uri": "https://localhost:8080/"
        },
        "id": "7t_XPrvE9NS6",
        "outputId": "2ab0dcb4-310f-4105-afaf-78f8729e2059"
      },
      "execution_count": null,
      "outputs": [
        {
          "output_type": "stream",
          "name": "stdout",
          "text": [
            "Model: \"sequential\"\n",
            "_________________________________________________________________\n",
            " Layer (type)                Output Shape              Param #   \n",
            "=================================================================\n",
            " dense (Dense)               (None, 128)               100480    \n",
            "                                                                 \n",
            " dense_1 (Dense)             (None, 128)               16512     \n",
            "                                                                 \n",
            " dropout (Dropout)           (None, 128)               0         \n",
            "                                                                 \n",
            " dense_2 (Dense)             (None, 10)                1290      \n",
            "                                                                 \n",
            "=================================================================\n",
            "Total params: 118,282\n",
            "Trainable params: 118,282\n",
            "Non-trainable params: 0\n",
            "_________________________________________________________________\n"
          ]
        }
      ]
    },
    {
      "cell_type": "markdown",
      "source": [
        "#Train\n"
      ],
      "metadata": {
        "id": "iH_m3wVxBvRb"
      }
    },
    {
      "cell_type": "code",
      "source": [
        "batch_size = 512\n",
        "epochs= 10\n",
        "model.fit(x=x_train, y=y_train, batch_size = batch_size, epochs=epochs)"
      ],
      "metadata": {
        "id": "a0EWYtRH_dBO",
        "colab": {
          "base_uri": "https://localhost:8080/"
        },
        "outputId": "7f7567a1-90e3-4825-801b-f1741f30f227"
      },
      "execution_count": null,
      "outputs": [
        {
          "output_type": "stream",
          "name": "stdout",
          "text": [
            "Epoch 1/10\n",
            "118/118 [==============================] - 2s 18ms/step - loss: 0.0489 - accuracy: 0.9849\n",
            "Epoch 2/10\n",
            "118/118 [==============================] - 1s 12ms/step - loss: 0.0442 - accuracy: 0.9863\n",
            "Epoch 3/10\n",
            "118/118 [==============================] - 1s 12ms/step - loss: 0.0405 - accuracy: 0.9881\n",
            "Epoch 4/10\n",
            "118/118 [==============================] - 1s 12ms/step - loss: 0.0375 - accuracy: 0.9883\n",
            "Epoch 5/10\n",
            "118/118 [==============================] - 1s 12ms/step - loss: 0.0312 - accuracy: 0.9907\n",
            "Epoch 6/10\n",
            "118/118 [==============================] - 1s 12ms/step - loss: 0.0294 - accuracy: 0.9909\n",
            "Epoch 7/10\n",
            "118/118 [==============================] - 1s 12ms/step - loss: 0.0274 - accuracy: 0.9918\n",
            "Epoch 8/10\n",
            "118/118 [==============================] - 1s 12ms/step - loss: 0.0248 - accuracy: 0.9924\n",
            "Epoch 9/10\n",
            "118/118 [==============================] - 2s 18ms/step - loss: 0.0223 - accuracy: 0.9933\n",
            "Epoch 10/10\n",
            "118/118 [==============================] - 2s 15ms/step - loss: 0.0211 - accuracy: 0.9934\n"
          ]
        },
        {
          "output_type": "execute_result",
          "data": {
            "text/plain": [
              "<keras.callbacks.History at 0x789b95afaaa0>"
            ]
          },
          "metadata": {},
          "execution_count": 13
        }
      ]
    },
    {
      "cell_type": "markdown",
      "source": [
        "#Evaluate"
      ],
      "metadata": {
        "id": "R-CB17-YRLte"
      }
    },
    {
      "cell_type": "code",
      "source": [
        "test_loss, test_acc = model.evaluate(x_test, y_test)\n",
        "print(\"Test Loss: {}, Test Accuracy: {}\".format(test_loss, test_acc))"
      ],
      "metadata": {
        "colab": {
          "base_uri": "https://localhost:8080/"
        },
        "id": "XEOtSo_nQBIy",
        "outputId": "63515661-4acd-4811-fcfd-6a3e6ee8f245"
      },
      "execution_count": null,
      "outputs": [
        {
          "output_type": "stream",
          "name": "stdout",
          "text": [
            "313/313 [==============================] - 1s 2ms/step - loss: 0.0742 - accuracy: 0.9795\n",
            "Test Loss: 0.0742022916674614, Test Accuracy: 0.9794999957084656\n"
          ]
        }
      ]
    },
    {
      "cell_type": "code",
      "source": [
        "y_pred = model.predict(x_test)\n",
        "y_pred_classes = np.argmax(y_pred, axis = 1)\n",
        "print(y_pred)\n",
        "print(y_pred_classes)"
      ],
      "metadata": {
        "colab": {
          "base_uri": "https://localhost:8080/"
        },
        "id": "ydHIAxymRzTw",
        "outputId": "73f2810a-77a4-42c2-816d-2a68f50586da"
      },
      "execution_count": null,
      "outputs": [
        {
          "output_type": "stream",
          "name": "stdout",
          "text": [
            "313/313 [==============================] - 1s 2ms/step\n",
            "[[5.7592263e-08 3.1522889e-06 1.9964200e-05 ... 9.9975252e-01\n",
            "  1.3349063e-07 6.5433375e-07]\n",
            " [7.3778969e-12 2.7078599e-07 9.9999970e-01 ... 1.0569937e-12\n",
            "  3.8548598e-11 3.1829304e-15]\n",
            " [8.4389313e-09 9.9974251e-01 9.9090576e-06 ... 1.5943784e-04\n",
            "  4.3887452e-05 1.7868982e-06]\n",
            " ...\n",
            " [7.5676713e-12 9.5411501e-10 2.1286353e-09 ... 8.4086167e-08\n",
            "  1.0326493e-07 7.2314542e-06]\n",
            " [4.9407380e-13 4.1039283e-10 4.0325568e-14 ... 7.4187515e-13\n",
            "  3.1991865e-06 6.9737000e-13]\n",
            " [4.3201383e-11 4.9457790e-13 1.7108702e-12 ... 6.8758257e-17\n",
            "  1.1123950e-12 3.1593750e-17]]\n",
            "[7 2 1 ... 4 5 6]\n"
          ]
        }
      ]
    },
    {
      "cell_type": "markdown",
      "source": [
        "# Single Example"
      ],
      "metadata": {
        "id": "c47R8XFPTLlN"
      }
    },
    {
      "cell_type": "code",
      "source": [
        "randi = np.random.choice(len(x_test))\n",
        "x_sample = x_test[randi]\n",
        "y_true = np.argmax(y_test,axis=1)\n",
        "y_sample_true = y_true[randi]\n",
        "y_sample_pred_class = y_pred_classes[randi]\n",
        "\n",
        "plt.title(\"Predicted: {}, True: {}\".format(y_sample_pred_class, y_sample_true), fontsize=16)\n",
        "plt.imshow(x_sample.reshape(28,28), cmap='gray')"
      ],
      "metadata": {
        "colab": {
          "base_uri": "https://localhost:8080/",
          "height": 471
        },
        "id": "bgmUsJDhSQZw",
        "outputId": "8c495ecc-6863-456f-d5a2-994aabe30720"
      },
      "execution_count": null,
      "outputs": [
        {
          "output_type": "execute_result",
          "data": {
            "text/plain": [
              "<matplotlib.image.AxesImage at 0x789b95aef730>"
            ]
          },
          "metadata": {},
          "execution_count": 20
        },
        {
          "output_type": "display_data",
          "data": {
            "text/plain": [
              "<Figure size 640x480 with 1 Axes>"
            ],
            "image/png": "[encoded data removed]"
          },
          "metadata": {}
        }
      ]
    },
    {
      "cell_type": "markdown",
      "source": [
        "#Confusion Matrix"
      ],
      "metadata": {
        "id": "dXtZhlQ0Uu9A"
      }
    },
    {
      "cell_type": "code",
      "source": [
        "cmatrix = confusion_matrix(y_true, y_pred_classes)\n",
        "\n",
        "#Plot\n",
        "fig, ax = plt.subplots(figsize=(15,10))\n",
        "ax = sns.heatmap(cmatrix, annot = True, fmt='d',ax=ax, cmap=\"Greens\")\n",
        "ax.set_xlabel('Predicted Lavel')\n",
        "ax.set_ylabel('True Label')\n",
        "ax.set_title('Confusion Matrix')\n"
      ],
      "metadata": {
        "colab": {
          "base_uri": "https://localhost:8080/",
          "height": 577
        },
        "id": "hM8X_f_lUVRm",
        "outputId": "a4071d96-cb2e-410f-f955-df7f264bb6cb"
      },
      "execution_count": null,
      "outputs": [
        {
          "output_type": "execute_result",
          "data": {
            "text/plain": [
              "Text(0.5, 1.0, 'Confusion Matrix')"
            ]
          },
          "metadata": {},
          "execution_count": 23
        },
        {
          "output_type": "display_data",
          "data": {
            "text/plain": [
              "<Figure size 1500x1000 with 2 Axes>"
            ],
            "image/png": "[encoded data removed]"
          },
          "metadata": {}
        }
      ]
    }
  ]
}